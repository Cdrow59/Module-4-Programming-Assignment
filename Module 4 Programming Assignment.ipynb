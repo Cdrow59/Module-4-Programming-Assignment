{
 "cells": [
  {
   "cell_type": "markdown",
   "metadata": {},
   "source": [
    "!!! Please note that I did 16.3 - 16.5 so that I have a database with data to connect to. If it was intended to show connecting to a database that doesn't exist or a database with no data, please let me know and I will fix it accordingly. !!!"
   ]
  },
  {
   "cell_type": "code",
   "execution_count": 1,
   "metadata": {},
   "outputs": [
    {
     "name": "stdout",
     "output_type": "stream",
     "text": [
      "Open 9-5 daily\n"
     ]
    }
   ],
   "source": [
    "#11.1\n",
    "import zoo\n",
    "\n",
    "zoo.hours()"
   ]
  },
  {
   "cell_type": "code",
   "execution_count": 2,
   "metadata": {},
   "outputs": [
    {
     "name": "stdout",
     "output_type": "stream",
     "text": [
      "Open 9-5 daily\n"
     ]
    }
   ],
   "source": [
    "#11.2\n",
    "import zoo as menagerie\n",
    "\n",
    "menagerie.hours()"
   ]
  },
  {
   "cell_type": "code",
   "execution_count": 3,
   "metadata": {},
   "outputs": [
    {
     "name": "stdout",
     "output_type": "stream",
     "text": [
      "CSV file 'books2.csv' has been created successfully.\n"
     ]
    }
   ],
   "source": [
    "#16.3\n",
    "\n",
    "import csv\n",
    "\n",
    "# Data to write to the CSV file\n",
    "books_data = [\n",
    "    [\"title\", \"author\", \"year\"],\n",
    "    [\"The Weirdstone of Brisingamen\", \"Alan Garner\", 1960],\n",
    "    [\"Perdido Street Station\", \"China Miéville\", 2000],\n",
    "    [\"Thud!\", \"Terry Pratchett\", 2005],\n",
    "    [\"The Spellman Files\", \"Lisa Lutz\", 2007],\n",
    "    [\"Small Gods\", \"Terry Pratchett\", 1992]\n",
    "]\n",
    "\n",
    "# Open the file in write mode with utf-8 encoding\n",
    "with open('books2.csv', mode='w', newline='', encoding='utf-8') as file:\n",
    "    writer = csv.writer(file)\n",
    "\n",
    "    # Write the rows of data to the CSV file\n",
    "    writer.writerows(books_data)\n",
    "\n",
    "print(\"CSV file 'books2.csv' has been created successfully.\")"
   ]
  },
  {
   "cell_type": "code",
   "execution_count": 4,
   "metadata": {},
   "outputs": [
    {
     "name": "stdout",
     "output_type": "stream",
     "text": [
      "Database and table created\n"
     ]
    }
   ],
   "source": [
    "#16.4\n",
    "\n",
    "import sqlite3\n",
    "\n",
    "# Connect to SQLite database (it will create the file if it doesn't exist)\n",
    "conn = sqlite3.connect('books.db')\n",
    "\n",
    "# Create a cursor object to interact with the database\n",
    "cursor = conn.cursor()\n",
    "\n",
    "# Create the 'books' table with the specified fields\n",
    "cursor.execute('''\n",
    "    CREATE TABLE IF NOT EXISTS books (\n",
    "        title TEXT,\n",
    "        author TEXT,\n",
    "        year INTEGER\n",
    "    )\n",
    "''')\n",
    "\n",
    "# Commit the changes to the database\n",
    "conn.commit()\n",
    "\n",
    "# Close the connection\n",
    "conn.close()\n",
    "\n",
    "print(\"Database and table created\")"
   ]
  },
  {
   "cell_type": "code",
   "execution_count": 5,
   "metadata": {},
   "outputs": [
    {
     "name": "stdout",
     "output_type": "stream",
     "text": [
      "Data from 'books2.csv' has been successfully inserted into the 'books' table.\n"
     ]
    }
   ],
   "source": [
    "#16.5\n",
    "\n",
    "import sqlite3\n",
    "import csv\n",
    "\n",
    "# Connect to SQLite database (this should already be created in exercise 16.4)\n",
    "conn = sqlite3.connect('books.db')\n",
    "cursor = conn.cursor()\n",
    "\n",
    "# Open the CSV file to read its data\n",
    "with open('books2.csv', mode='r', encoding='utf-8') as file:\n",
    "    # Create a CSV reader object\n",
    "    csv_reader = csv.reader(file)\n",
    "    \n",
    "    # Skip the header row\n",
    "    next(csv_reader)\n",
    "\n",
    "    # Insert data into the 'books' table\n",
    "    for row in csv_reader:\n",
    "        title, author, year = row  # Unpack the CSV row into variables\n",
    "        cursor.execute('''\n",
    "            INSERT INTO books (title, author, year)\n",
    "            VALUES (?, ?, ?)\n",
    "        ''', (title, author, year))\n",
    "\n",
    "# Commit the changes to the database\n",
    "conn.commit()\n",
    "\n",
    "# Close the connection\n",
    "conn.close()\n",
    "\n",
    "print(\"Data from 'books2.csv' has been successfully inserted into the 'books' table.\")"
   ]
  },
  {
   "cell_type": "code",
   "execution_count": 6,
   "metadata": {},
   "outputs": [
    {
     "name": "stdout",
     "output_type": "stream",
     "text": [
      "Perdido Street Station\n",
      "Small Gods\n",
      "The Spellman Files\n",
      "The Weirdstone of Brisingamen\n",
      "Thud!\n"
     ]
    }
   ],
   "source": [
    "#16.8 \n",
    "\n",
    "from sqlalchemy import create_engine, Table, MetaData\n",
    "\n",
    "# Create a connection to the SQLite database\n",
    "engine = create_engine('sqlite:///books.db')\n",
    "\n",
    "# Create a MetaData instance to reflect the existing database schema\n",
    "metadata = MetaData()\n",
    "\n",
    "# Reflect the 'books' table from the database\n",
    "books = Table('books', metadata, autoload_with=engine)\n",
    "\n",
    "# Connect to the database\n",
    "with engine.connect() as connection:\n",
    "    # Query to select distinct titles from the 'books' table in alphabetical order\n",
    "    result = connection.execute(books.select().distinct().order_by(books.c.title))\n",
    "\n",
    "    # Print each title from the result\n",
    "    for row in result.mappings():  # Use .mappings() to access column names\n",
    "        print(row['title'])"
   ]
  }
 ],
 "metadata": {
  "kernelspec": {
   "display_name": "Python 3",
   "language": "python",
   "name": "python3"
  },
  "language_info": {
   "codemirror_mode": {
    "name": "ipython",
    "version": 3
   },
   "file_extension": ".py",
   "mimetype": "text/x-python",
   "name": "python",
   "nbconvert_exporter": "python",
   "pygments_lexer": "ipython3",
   "version": "3.13.1"
  }
 },
 "nbformat": 4,
 "nbformat_minor": 2
}
